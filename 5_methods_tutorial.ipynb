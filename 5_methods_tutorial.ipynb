{
 "cells": [
  {
   "cell_type": "markdown",
   "metadata": {},
   "source": [
    "# Euclidean Distance\n",
    "## Method 1: linalg.norm"
   ]
  },
  {
   "cell_type": "code",
   "execution_count": null,
   "metadata": {},
   "outputs": [],
   "source": [
    "import numpy as np\n",
    "from PIL import Image\n",
    "\n",
    "image1 = Image.open(\"path/to/image\")\n",
    "image2 = Image.open(\"path/to/image\")\n",
    "# Note: images have to be of equal size\n",
    "\n",
    "# linalg.norm\n",
    "value = np.linalg.norm(np.array(image1) - np.array(image2))"
   ]
  },
  {
   "cell_type": "markdown",
   "metadata": {},
   "source": [
    "## Method 2: scipy"
   ]
  },
  {
   "cell_type": "code",
   "execution_count": null,
   "metadata": {},
   "outputs": [],
   "source": [
    "import numpy as np\n",
    "from scipy.spatial import distance\n",
    "from PIL import Image\n",
    "\n",
    "image1 = Image.open(\"path/to/image\")\n",
    "image2 = Image.open(\"path/to/image\")\n",
    "# Note: images have to be of equal size\n",
    "\n",
    "# we need to flatten the image to a 1D vector\n",
    "value = distance.euclidean(np.array(image1).flatten(), np.array(image2).flatten())"
   ]
  },
  {
   "cell_type": "markdown",
   "metadata": {},
   "source": [
    "# SSIM"
   ]
  },
  {
   "cell_type": "code",
   "execution_count": null,
   "metadata": {},
   "outputs": [],
   "source": [
    "from SSIM_PIL import compare_ssim\n",
    "from PIL import Image\n",
    "\n",
    "image1 = Image.open(\"path/to/image\")\n",
    "image2 = Image.open(\"path/to/image\")\n",
    "# Note: images have to be of equal size\n",
    "\n",
    "value = compare_ssim(image1, image2, GPU=False) # a value of 1 indicates strong similarity"
   ]
  },
  {
   "cell_type": "markdown",
   "metadata": {},
   "source": [
    "# Image Hashing"
   ]
  },
  {
   "cell_type": "code",
   "execution_count": 5,
   "metadata": {},
   "outputs": [],
   "source": [
    "import imagehash\n",
    "from PIL import Image\n",
    "\n",
    "image1 = Image.open(\"path/to/image\")\n",
    "image2 = Image.open(\"path/to/image\")\n",
    "# Note: images DO NOT have to be of equal size\n",
    "\n",
    "# Construct the hash\n",
    "hash1 = imagehash.average_hash(image1)\n",
    "hash2 = imagehash.average_hash(image2)\n",
    "\n",
    "# Calculate the hamming distance\n",
    "value = hash1-hash2"
   ]
  },
  {
   "cell_type": "markdown",
   "metadata": {},
   "source": [
    "# Cosine Similarity"
   ]
  },
  {
   "cell_type": "code",
   "execution_count": null,
   "metadata": {},
   "outputs": [],
   "source": [
    "from torch import nn\n",
    "from PIL import Image\n",
    "from torchvision import transforms\n",
    "\n",
    "image1 = Image.open(\"path/to/image\")\n",
    "image2 = Image.open(\"path/to/image)\n",
    "# Note: images have to be of equal size\n",
    "\n",
    "# Transform the images to tensors then flatten them to 1D vectors\n",
    "image1_tensor = transforms.ToTensor()(image1).reshape(1, -1).squeeze() \n",
    "image2_tensor = transforms.ToTensor()(image2).reshape(1, -1).squeeze()\n",
    "\n",
    "cos = nn.CosineSimilarity(dim=0) # dim=0 -> dimension where cosine similarity is computed\n",
    "value = float(cos(image1_tensor, image2_tensor)) # a value of 1 indicates strong similarity"
   ]
  },
  {
   "cell_type": "markdown",
   "metadata": {},
   "source": [
    "# Similarity of Features\n",
    "## 1. Euclidean Distance"
   ]
  },
  {
   "cell_type": "code",
   "execution_count": null,
   "metadata": {},
   "outputs": [],
   "source": [
    "from efficientnet_pytorch import EfficientNet\n",
    "import numpy as np\n",
    "from PIL import Image\n",
    "from torchvision import transforms\n",
    "\n",
    "# Load the model\n",
    "model = EfficientNet.from_pretrained('efficientnet-b0')\n",
    "model.eval()\n",
    "\n",
    "image1 = Image.open(\"path/to/image\")\n",
    "image2 = Image.open(\"path/to/image\")\n",
    "# Note: images have to be of equal size\n",
    "          \n",
    "# Convert the images to tensors\n",
    "image1_tensor = transforms.ToTensor()(image1)\n",
    "image2_tensor = transforms.ToTensor()(image2)\n",
    "      \n",
    "# Add a fourth dimension for the batch and Extract the features \n",
    "features1 = model.extract_features(image1_tensor.unsqueeze(0))\n",
    "features2 = model.extract_features(image2_tensor.unsqueeze(0))\n",
    "\n",
    "# Calculate the Euclidean distance of the features\n",
    "value = round(np.linalg.norm(np.array(features1.detach()) - \\\n",
    "                             np.array(features2.detach())), 4)"
   ]
  },
  {
   "cell_type": "markdown",
   "metadata": {},
   "source": [
    "## 2. Cosine Similarity"
   ]
  },
  {
   "cell_type": "code",
   "execution_count": 2,
   "metadata": {},
   "outputs": [
    {
     "name": "stdout",
     "output_type": "stream",
     "text": [
      "Loaded pretrained weights for efficientnet-b0\n"
     ]
    }
   ],
   "source": [
    "from efficientnet_pytorch import EfficientNet\n",
    "from PIL import Image\n",
    "from torchvision import transforms\n",
    "from torch import nn\n",
    "\n",
    "# Load the model\n",
    "model = EfficientNet.from_pretrained('efficientnet-b0')\n",
    "model.eval()\n",
    "\n",
    "image1 = Image.open(\"path/to/image\")\n",
    "image2 = Image.open(\"path/to/image\")\n",
    "# Note: images have to be of equal size\n",
    "\n",
    "# Transform the images to tensors\n",
    "image1_tensor = transforms.ToTensor()(image1)\n",
    "image2_tensor = transforms.ToTensor()(image2)\n",
    "\n",
    "# Add a fourth dimension representing the batch number and compute the features\n",
    "features1 = model.extract_features(image1_tensor.unsqueeze(0))\n",
    "features2 = model.extract_features(image2_tensor.unsqueeze(0))\n",
    "\n",
    "# flatten the features and apply cosine similarity\n",
    "cos = nn.CosineSimilarity(dim=0)\n",
    "value = round(float(cos(features1.reshape(1, -1).squeeze(), \\\n",
    "                        features2.reshape(1, -1).squeeze())),4)"
   ]
  },
  {
   "cell_type": "code",
   "execution_count": null,
   "metadata": {},
   "outputs": [],
   "source": []
  }
 ],
 "metadata": {
  "kernelspec": {
   "display_name": "Python 3",
   "language": "python",
   "name": "python3"
  },
  "language_info": {
   "codemirror_mode": {
    "name": "ipython",
    "version": 3
   },
   "file_extension": ".py",
   "mimetype": "text/x-python",
   "name": "python",
   "nbconvert_exporter": "python",
   "pygments_lexer": "ipython3",
   "version": "3.8.5"
  }
 },
 "nbformat": 4,
 "nbformat_minor": 4
}
